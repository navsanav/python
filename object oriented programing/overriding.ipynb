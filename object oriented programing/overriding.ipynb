{
 "cells": [
  {
   "cell_type": "code",
   "execution_count": 43,
   "metadata": {},
   "outputs": [],
   "source": [
    "class Vehicle:\n",
    "    def __init__(self,hp,cost):\n",
    "        self.hp=hp\n",
    "        self.cost=cost\n",
    "    def showvdetails(self):\n",
    "        print(\"color of car is \",self.hp)\n",
    "        print(\"cost of car is \",self.cost)\n",
    "    "
   ]
  },
  {
   "cell_type": "code",
   "execution_count": 44,
   "metadata": {},
   "outputs": [],
   "source": [
    "v=Vehicle(\"100\",8000)"
   ]
  },
  {
   "cell_type": "code",
   "execution_count": 45,
   "metadata": {},
   "outputs": [
    {
     "name": "stdout",
     "output_type": "stream",
     "text": [
      "color of car is  100\n",
      "cost of car is  8000\n"
     ]
    }
   ],
   "source": [
    "v.showvdetails()"
   ]
  },
  {
   "cell_type": "code",
   "execution_count": 46,
   "metadata": {},
   "outputs": [],
   "source": [
    "class Car(Vehicle):\n",
    "    def __init__(self, hp, cost,milage,tyres):\n",
    "        super().__init__(milage,tyres)\n",
    "        self.tyres=tyres\n",
    "        self.milage=milage\n",
    "    def showcardetails(self):\n",
    "        print(\"milage is\",self.milage)\n",
    "        print(\"tyres presennt in this car is\",self.tyres)\n",
    "        "
   ]
  },
  {
   "cell_type": "code",
   "execution_count": null,
   "metadata": {},
   "outputs": [],
   "source": []
  }
 ],
 "metadata": {
  "kernelspec": {
   "display_name": "Python 3",
   "language": "python",
   "name": "python3"
  },
  "language_info": {
   "codemirror_mode": {
    "name": "ipython",
    "version": 3
   },
   "file_extension": ".py",
   "mimetype": "text/x-python",
   "name": "python",
   "nbconvert_exporter": "python",
   "pygments_lexer": "ipython3",
   "version": "3.11.3"
  },
  "orig_nbformat": 4
 },
 "nbformat": 4,
 "nbformat_minor": 2
}
